{
 "cells": [
  {
   "cell_type": "markdown",
   "metadata": {},
   "source": [
    "env: findingzeke"
   ]
  },
  {
   "cell_type": "code",
   "execution_count": null,
   "metadata": {},
   "outputs": [],
   "source": [
    "import os\n",
    "import glob\n",
    "import requests\n",
    "from dotenv import load_dotenv\n",
    "import numpy as np\n",
    "\n",
    "import matplotlib.pyplot as plt  \n",
    "from matplotlib.image import  imread"
   ]
  },
  {
   "cell_type": "code",
   "execution_count": null,
   "metadata": {},
   "outputs": [],
   "source": [
    "load_dotenv()"
   ]
  },
  {
   "cell_type": "code",
   "execution_count": null,
   "metadata": {},
   "outputs": [],
   "source": [
    "# Replace with your actual API URL and API key in the .env file \n",
    "api_version=\"2023-02-01-preview\"\n",
    "api_url = f\"{os.getenv('AZURE_AI_SERVICES_ENDPOINT')}/computervision/retrieval:vectorizeImage?overload=stream&api-version={api_version}\"\n",
    "api_key = os.getenv('AZURE_AI_SERVICES_KEY')\n",
    "\n",
    "print(api_url)"
   ]
  },
  {
   "cell_type": "code",
   "execution_count": null,
   "metadata": {},
   "outputs": [],
   "source": [
    "test_image_path = \"../images/test/zeke.png\"\n",
    "image_collection_path = \"../images/collection\""
   ]
  },
  {
   "cell_type": "code",
   "execution_count": null,
   "metadata": {},
   "outputs": [],
   "source": [
    "def getImageEmbedding(image_path, api_url, api_key):\n",
    "\n",
    "    # Open the image file in binary mode  \n",
    "    with open(image_path, 'rb') as image_file:  \n",
    "        # Set up the headers - assuming the API requires an API key  \n",
    "        headers = {  \n",
    "            'Content-Type': 'application/octet-stream',  # Specify the content type as a binary stream  \n",
    "            'Ocp-Apim-Subscription-Key': api_key,       \n",
    "        }  \n",
    "        \n",
    "        # Make the POST request to the API  \n",
    "        response = requests.post(api_url, headers=headers, data=image_file)    \n",
    "    \n",
    "        # Check the response  \n",
    "        if response.status_code == 200:  \n",
    "            # print(\"Success! Image has been vectorized.\")              \n",
    "            vectorized_image_data = response.json()  # Assuming the response is JSON - adjust if the format is different  \n",
    "            # print(vectorized_image_data[\"vector\"])\n",
    "\n",
    "            return vectorized_image_data[\"vector\"]\n",
    "        else:  \n",
    "            print(f\"Error: {response.status_code} - {response.text}\")\n",
    "            return None"
   ]
  },
  {
   "cell_type": "code",
   "execution_count": null,
   "metadata": {},
   "outputs": [],
   "source": [
    "def getFilesInDirectory(directory_path):\n",
    "    \n",
    "    return glob.glob(os.path.join(directory_path, \"*.png\")  )  "
   ]
  },
  {
   "cell_type": "code",
   "execution_count": null,
   "metadata": {},
   "outputs": [],
   "source": [
    "def getCosineSimilarity(vector_a, vector_b):  \n",
    "    # Calculate the dot product of the two vectors  \n",
    "    dot_product = np.dot(vector_a, vector_b)  \n",
    "      \n",
    "    # Calculate the magnitude (norm) of each vector  \n",
    "    norm_a = np.linalg.norm(vector_a)  \n",
    "    norm_b = np.linalg.norm(vector_b)  \n",
    "      \n",
    "    # Calculate the cosine similarity  \n",
    "    similarity = dot_product / (norm_a * norm_b)  \n",
    "      \n",
    "    return similarity  "
   ]
  },
  {
   "cell_type": "code",
   "execution_count": null,
   "metadata": {},
   "outputs": [],
   "source": [
    "#Get all files in the directory\n",
    "file_collection = getFilesInDirectory(image_collection_path)\n",
    "print(f\"{len(file_collection)} files found.\")"
   ]
  },
  {
   "cell_type": "code",
   "execution_count": null,
   "metadata": {},
   "outputs": [],
   "source": [
    "cosine_similarity_dictionary = {}\n",
    "\n",
    "embeddings_test_image = getImageEmbedding(image_path=test_image_path,api_url=api_url, api_key=api_key)\n",
    "print(f\"Embedding size: {len(embeddings_test_image)}\")\n",
    "\n",
    "for file in file_collection:\n",
    "    cosine_similarity = getCosineSimilarity(embeddings_test_image, getImageEmbedding(image_path=file,api_url=api_url, api_key=api_key))\n",
    "    # print(f\"file:{file}, cosine_similarity:{cosine_similarity}\")\n",
    "    cosine_similarity_dictionary[file] = cosine_similarity\n",
    "\n",
    "print(\"Embeddings generated and similarity calculated.\")\n",
    "print(type(cosine_similarity_dictionary))"
   ]
  },
  {
   "cell_type": "code",
   "execution_count": null,
   "metadata": {},
   "outputs": [],
   "source": [
    "#Sort descending\n",
    "sorted_data = sorted(cosine_similarity_dictionary.items(), key=lambda item: item[1], reverse=True)  \n",
    "print(type(sorted_data))\n",
    "\n",
    "#View sorted scores\n",
    "for index, (path, score) in enumerate(sorted_data):    \n",
    "    print(f\"{index}, {path}: {score}\")  \n"
   ]
  },
  {
   "cell_type": "code",
   "execution_count": null,
   "metadata": {},
   "outputs": [],
   "source": [
    "print(f\"**Showing Zeke**\")\n",
    "\n",
    "plt.figure(figsize=(2,2))\n",
    "plt.imshow(imread(test_image_path))  \n",
    "plt.title(f\"{test_image_path}\")\n",
    "plt.show()\n",
    "\n",
    "top_N = 3\n",
    "\n",
    "print(f\"Showing top {top_N} best matches\")\n",
    "\n",
    "for index, (path, score) in enumerate(sorted_data[:top_N]):    \n",
    "\n",
    "    plt.figure(figsize=(2,2))\n",
    "    plt.imshow(imread(path))  \n",
    "    plt.title(f\"{path}, {round(score,2)}\")\n",
    "    plt.show()  "
   ]
  },
  {
   "cell_type": "code",
   "execution_count": null,
   "metadata": {},
   "outputs": [],
   "source": [
    "print(f\"Showing least {top_N} matches\")\n",
    "\n",
    "for index, (path, score) in enumerate(sorted_data[-top_N:]):    \n",
    "\n",
    "    plt.figure(figsize=(2,2))\n",
    "    plt.imshow(imread(path))  \n",
    "    plt.title(f\"{path}, {round(score,2)}\")\n",
    "    plt.show()  "
   ]
  }
 ],
 "metadata": {
  "kernelspec": {
   "display_name": "Python 3.10 (findingzeke)",
   "language": "python",
   "name": "findingzeke"
  },
  "language_info": {
   "codemirror_mode": {
    "name": "ipython",
    "version": 3
   },
   "file_extension": ".py",
   "mimetype": "text/x-python",
   "name": "python",
   "nbconvert_exporter": "python",
   "pygments_lexer": "ipython3",
   "version": "3.10.0"
  }
 },
 "nbformat": 4,
 "nbformat_minor": 2
}
